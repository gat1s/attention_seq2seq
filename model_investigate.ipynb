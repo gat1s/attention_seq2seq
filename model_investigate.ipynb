{
 "cells": [
  {
   "cell_type": "code",
   "execution_count": 1,
   "metadata": {
    "executionInfo": {
     "elapsed": 225,
     "status": "ok",
     "timestamp": 1667993530412,
     "user": {
      "displayName": "Gatis Mikelsons",
      "userId": "14730005653465610901"
     },
     "user_tz": 0
    },
    "id": "yTweMLOmR9Vi"
   },
   "outputs": [],
   "source": [
    "# This notebook loads the final trained model and gets it to translate something.\n",
    "#"
   ]
  },
  {
   "cell_type": "code",
   "execution_count": 4,
   "metadata": {},
   "outputs": [
    {
     "name": "stdout",
     "output_type": "stream",
     "text": [
      "/Users/sr_old/Desktop/attention_seq2seq\n"
     ]
    }
   ],
   "source": [
    "!pwd"
   ]
  },
  {
   "cell_type": "code",
   "execution_count": 5,
   "metadata": {
    "executionInfo": {
     "elapsed": 9,
     "status": "ok",
     "timestamp": 1667993531067,
     "user": {
      "displayName": "Gatis Mikelsons",
      "userId": "14730005653465610901"
     },
     "user_tz": 0
    },
    "id": "j_4Zesv4R0pw"
   },
   "outputs": [
    {
     "name": "stdout",
     "output_type": "stream",
     "text": [
      "/Users/sr_old/Desktop/attention_seq2seq/p3.10_attention_seq2seq/bin/python\n",
      "3.10.13 (main, Aug 24 2023, 22:36:46) [Clang 14.0.3 (clang-1403.0.22.14.1)]\n"
     ]
    }
   ],
   "source": [
    "import sys\n",
    "print(sys.executable)\n",
    "print(sys.version)"
   ]
  },
  {
   "cell_type": "code",
   "execution_count": null,
   "metadata": {},
   "outputs": [],
   "source": []
  },
  {
   "cell_type": "code",
   "execution_count": null,
   "metadata": {
    "executionInfo": {
     "elapsed": 13,
     "status": "ok",
     "timestamp": 1667993549969,
     "user": {
      "displayName": "Gatis Mikelsons",
      "userId": "14730005653465610901"
     },
     "user_tz": 0
    },
    "id": "uKCSSSzgR0px"
   },
   "outputs": [],
   "source": []
  },
  {
   "cell_type": "markdown",
   "metadata": {
    "id": "FXN7_Zd8R0py"
   },
   "source": [
    "## Imports"
   ]
  },
  {
   "cell_type": "code",
   "execution_count": 6,
   "metadata": {
    "executionInfo": {
     "elapsed": 9,
     "status": "ok",
     "timestamp": 1667993549971,
     "user": {
      "displayName": "Gatis Mikelsons",
      "userId": "14730005653465610901"
     },
     "user_tz": 0
    },
    "id": "v_OTN1RsR0pz"
   },
   "outputs": [],
   "source": [
    "import math\n",
    "import re"
   ]
  },
  {
   "cell_type": "code",
   "execution_count": 7,
   "metadata": {
    "executionInfo": {
     "elapsed": 1919,
     "status": "ok",
     "timestamp": 1667993551882,
     "user": {
      "displayName": "Gatis Mikelsons",
      "userId": "14730005653465610901"
     },
     "user_tz": 0
    },
    "id": "gjvOdrVQR0p0"
   },
   "outputs": [],
   "source": [
    "import numpy as np\n",
    "import torch\n",
    "import torch.optim as optim\n",
    "import torch.nn as nn\n",
    "#from torchviz import make_dot\n",
    "from torch.utils.data import Dataset, DataLoader #, TensorDataset\n",
    "from torch.utils.data.dataset import random_split\n",
    "import datetime"
   ]
  },
  {
   "cell_type": "code",
   "execution_count": 8,
   "metadata": {
    "executionInfo": {
     "elapsed": 11,
     "status": "ok",
     "timestamp": 1667993551882,
     "user": {
      "displayName": "Gatis Mikelsons",
      "userId": "14730005653465610901"
     },
     "user_tz": 0
    },
    "id": "c0HRxPJgR0p0"
   },
   "outputs": [],
   "source": [
    "import torch.nn.functional as F\n",
    "from torch.nn.utils.rnn import pad_packed_sequence, pack_padded_sequence"
   ]
  },
  {
   "cell_type": "code",
   "execution_count": 9,
   "metadata": {
    "executionInfo": {
     "elapsed": 11,
     "status": "ok",
     "timestamp": 1667993551883,
     "user": {
      "displayName": "Gatis Mikelsons",
      "userId": "14730005653465610901"
     },
     "user_tz": 0
    },
    "id": "RfXhEsSJsGwd"
   },
   "outputs": [],
   "source": [
    "from torch.distributions.categorical import Categorical"
   ]
  },
  {
   "cell_type": "code",
   "execution_count": 10,
   "metadata": {
    "executionInfo": {
     "elapsed": 10,
     "status": "ok",
     "timestamp": 1667993551883,
     "user": {
      "displayName": "Gatis Mikelsons",
      "userId": "14730005653465610901"
     },
     "user_tz": 0
    },
    "id": "yNLQt7gkR0p1"
   },
   "outputs": [],
   "source": [
    "import matplotlib.pyplot as plt\n",
    "%matplotlib inline    \n",
    "from matplotlib.pyplot import rcParams\n",
    "plt.style.use('ggplot')\n",
    "rcParams['figure.figsize'] = 5,5"
   ]
  },
  {
   "cell_type": "code",
   "execution_count": 11,
   "metadata": {
    "executionInfo": {
     "elapsed": 11,
     "status": "ok",
     "timestamp": 1667993551885,
     "user": {
      "displayName": "Gatis Mikelsons",
      "userId": "14730005653465610901"
     },
     "user_tz": 0
    },
    "id": "u_3G23IeR0p2"
   },
   "outputs": [],
   "source": [
    "import itertools\n",
    "import random"
   ]
  },
  {
   "cell_type": "code",
   "execution_count": 12,
   "metadata": {
    "executionInfo": {
     "elapsed": 9,
     "status": "ok",
     "timestamp": 1667993551886,
     "user": {
      "displayName": "Gatis Mikelsons",
      "userId": "14730005653465610901"
     },
     "user_tz": 0
    },
    "id": "GraMD30TR0p3"
   },
   "outputs": [],
   "source": [
    "%load_ext autoreload\n",
    "%autoreload 2"
   ]
  },
  {
   "cell_type": "code",
   "execution_count": 13,
   "metadata": {},
   "outputs": [],
   "source": [
    "import pickle"
   ]
  },
  {
   "cell_type": "code",
   "execution_count": 14,
   "metadata": {},
   "outputs": [],
   "source": [
    "from dataprep_functions import LanguageDataset"
   ]
  },
  {
   "cell_type": "code",
   "execution_count": 15,
   "metadata": {},
   "outputs": [],
   "source": [
    "from model_functions import *"
   ]
  },
  {
   "cell_type": "code",
   "execution_count": null,
   "metadata": {},
   "outputs": [],
   "source": []
  },
  {
   "cell_type": "markdown",
   "metadata": {
    "id": "2t9E_mHER0p5"
   },
   "source": [
    "## Device and seed"
   ]
  },
  {
   "cell_type": "code",
   "execution_count": 16,
   "metadata": {
    "executionInfo": {
     "elapsed": 16,
     "status": "ok",
     "timestamp": 1667993553717,
     "user": {
      "displayName": "Gatis Mikelsons",
      "userId": "14730005653465610901"
     },
     "user_tz": 0
    },
    "id": "C7zP9bB0R0p7"
   },
   "outputs": [
    {
     "data": {
      "text/plain": [
       "'mps'"
      ]
     },
     "execution_count": 16,
     "metadata": {},
     "output_type": "execute_result"
    }
   ],
   "source": [
    "device = 'cuda' if torch.cuda.is_available() else \"mps\" if torch.backends.mps.is_available() else 'cpu'\n",
    "\n",
    "device"
   ]
  },
  {
   "cell_type": "code",
   "execution_count": 17,
   "metadata": {
    "executionInfo": {
     "elapsed": 12,
     "status": "ok",
     "timestamp": 1667993553718,
     "user": {
      "displayName": "Gatis Mikelsons",
      "userId": "14730005653465610901"
     },
     "user_tz": 0
    },
    "id": "LBEwQWsOR0p9"
   },
   "outputs": [],
   "source": [
    "seed = 42"
   ]
  },
  {
   "cell_type": "code",
   "execution_count": 18,
   "metadata": {
    "executionInfo": {
     "elapsed": 12,
     "status": "ok",
     "timestamp": 1667993553719,
     "user": {
      "displayName": "Gatis Mikelsons",
      "userId": "14730005653465610901"
     },
     "user_tz": 0
    },
    "id": "VP88-LbZR0p9"
   },
   "outputs": [],
   "source": [
    "torch.manual_seed(seed)\n",
    "#rng = np.random.default_rng(seed)\n",
    "random.seed(seed)"
   ]
  },
  {
   "cell_type": "code",
   "execution_count": null,
   "metadata": {
    "executionInfo": {
     "elapsed": 12,
     "status": "ok",
     "timestamp": 1667993553720,
     "user": {
      "displayName": "Gatis Mikelsons",
      "userId": "14730005653465610901"
     },
     "user_tz": 0
    },
    "id": "_utQ_MlrR0p-"
   },
   "outputs": [],
   "source": []
  },
  {
   "cell_type": "markdown",
   "metadata": {
    "id": "PL-ZtZWPR0p-"
   },
   "source": [
    "## Variables"
   ]
  },
  {
   "cell_type": "code",
   "execution_count": 19,
   "metadata": {
    "executionInfo": {
     "elapsed": 12,
     "status": "ok",
     "timestamp": 1667993553941,
     "user": {
      "displayName": "Gatis Mikelsons",
      "userId": "14730005653465610901"
     },
     "user_tz": 0
    },
    "id": "EQaVXJaCR0qA"
   },
   "outputs": [],
   "source": [
    "# Name of the folder where data is accessed and saved\n",
    "path = \"datasets\""
   ]
  },
  {
   "cell_type": "code",
   "execution_count": 20,
   "metadata": {},
   "outputs": [],
   "source": [
    "results_path = \"results\""
   ]
  },
  {
   "cell_type": "code",
   "execution_count": 21,
   "metadata": {
    "executionInfo": {
     "elapsed": 11,
     "status": "ok",
     "timestamp": 1667993553941,
     "user": {
      "displayName": "Gatis Mikelsons",
      "userId": "14730005653465610901"
     },
     "user_tz": 0
    },
    "id": "9eK6QXRKR0qA"
   },
   "outputs": [],
   "source": [
    "PAD_token = 0\n",
    "SOS_token = 1\n",
    "EOS_token = 2"
   ]
  },
  {
   "cell_type": "code",
   "execution_count": null,
   "metadata": {},
   "outputs": [],
   "source": []
  },
  {
   "cell_type": "markdown",
   "metadata": {},
   "source": [
    "## Loding the data we need"
   ]
  },
  {
   "cell_type": "code",
   "execution_count": 22,
   "metadata": {},
   "outputs": [],
   "source": [
    "# Unpickling\n",
    "with open(path + \"/input_lang.txt\", \"rb\") as y:\n",
    "    input_lang = pickle.load(y)\n",
    "with open(path + \"/output_lang.txt\", \"rb\") as y:\n",
    "    output_lang = pickle.load(y)"
   ]
  },
  {
   "cell_type": "code",
   "execution_count": 23,
   "metadata": {},
   "outputs": [],
   "source": [
    "train_dataset = torch.load(path + '/train.pt', weights_only=False)\n",
    "val_dataset = torch.load(path + '/val.pt', weights_only=False)"
   ]
  },
  {
   "cell_type": "code",
   "execution_count": null,
   "metadata": {},
   "outputs": [],
   "source": []
  },
  {
   "cell_type": "markdown",
   "metadata": {},
   "source": [
    "## Now load the final model and investigate"
   ]
  },
  {
   "cell_type": "code",
   "execution_count": 24,
   "metadata": {},
   "outputs": [],
   "source": [
    "# Set the hyperparameters right"
   ]
  },
  {
   "cell_type": "code",
   "execution_count": 25,
   "metadata": {},
   "outputs": [],
   "source": [
    "m = Luong_full(vocab = input_lang.n_words, h_size = 90, dropout = 0.2, n_layers = 2, \n",
    "                    att_method = 'general', vocab_out = output_lang.n_words, device = device)"
   ]
  },
  {
   "cell_type": "code",
   "execution_count": 26,
   "metadata": {},
   "outputs": [
    {
     "name": "stdout",
     "output_type": "stream",
     "text": [
      "results/5e-03_0.05_32_{'h_size':90,'dropout':0.2,'n_layers':2,'att_method':'general','c':'final_model'}.png\n",
      "results/5e-03_1_32_{'h_size':30,'dropout':0,'n_layers':2,'att_method':'dot','c':'first'}.png\n",
      "\n",
      "results/atlases:\n",
      "att_method-dropout.png\n",
      "hsize-layers.png\n",
      "lr-ratio.png\n",
      "lr-ratio_old.png\n",
      "\n",
      "results/models:\n",
      "5e-03_0.05_32_{'h_size':90,'dropout':0.2,'n_layers':2,'att_method':'general','c':'final_model'}.pt\n",
      "\n",
      "results/ratio5,ss10:\n",
      "5e-03_5_32_{'c':'','dropout':0,'h_size':90,'n_layers':3,'att_method':'dot'}.png\n",
      "5e-03_5_32_{'c':'','dropout':0.1,'h_size':60,'n_layers':2,'att_method':'general'}.png\n",
      "5e-03_5_32_{'c':'','dropout':0.3,'h_size':60,'n_layers':2,'att_method':'concat'}.png\n",
      "5e-03_5_32_{'h_size':30,'dropout':0,'n_layers':2,'att_method':'dot','c':''}.png\n"
     ]
    }
   ],
   "source": [
    "os.system(\"ls \" + results_path + \"/*\");"
   ]
  },
  {
   "cell_type": "code",
   "execution_count": 27,
   "metadata": {},
   "outputs": [],
   "source": [
    "# Pick the right model:\n",
    "name = \"5e-03_0.05_32_{'h_size':90,'dropout':0.2,'n_layers':2,'att_method':'general','c':'final_model'}.pt\""
   ]
  },
  {
   "cell_type": "code",
   "execution_count": 28,
   "metadata": {},
   "outputs": [
    {
     "data": {
      "text/plain": [
       "Luong_full(\n",
       "  (encoder): EncoderRNN(\n",
       "    (embedding): Embedding(655, 90)\n",
       "    (gru): GRU(90, 45, num_layers=2, dropout=0.2, bidirectional=True)\n",
       "  )\n",
       "  (decoder): LuongDecoder(\n",
       "    (embedding): Embedding(705, 90)\n",
       "    (gru): GRU(90, 90, num_layers=2, dropout=0.2)\n",
       "    (joinerFF): Linear(in_features=180, out_features=90, bias=True)\n",
       "    (projFF): Linear(in_features=90, out_features=705, bias=True)\n",
       "    (dropout_layer): Dropout(p=0.2, inplace=False)\n",
       "    (alignment_vector): Attn(\n",
       "      (mFF): Linear(in_features=90, out_features=90, bias=False)\n",
       "    )\n",
       "  )\n",
       ")"
      ]
     },
     "execution_count": 28,
     "metadata": {},
     "output_type": "execute_result"
    }
   ],
   "source": [
    "m.load_state_dict(torch.load(results_path + '/models/' + name, map_location=torch.device('cpu')))\n",
    "m.to(device)"
   ]
  },
  {
   "cell_type": "code",
   "execution_count": 29,
   "metadata": {},
   "outputs": [],
   "source": [
    "# Now check that we can replicate the loss obtained.\n",
    "# Set the epoch parameter to a high number, to make sure there is no teacher forcing.\n",
    "\n",
    "val_loss = epochend_lcalc(m, lossmaker1, batcher(val_dataset, 800), device, epoch = 28)"
   ]
  },
  {
   "cell_type": "code",
   "execution_count": 30,
   "metadata": {},
   "outputs": [
    {
     "data": {
      "text/plain": [
       "np.float64(1.277029554049174)"
      ]
     },
     "execution_count": 30,
     "metadata": {},
     "output_type": "execute_result"
    }
   ],
   "source": [
    "val_loss"
   ]
  },
  {
   "cell_type": "code",
   "execution_count": null,
   "metadata": {},
   "outputs": [],
   "source": [
    "# Close enough."
   ]
  },
  {
   "cell_type": "code",
   "execution_count": null,
   "metadata": {},
   "outputs": [],
   "source": []
  },
  {
   "cell_type": "markdown",
   "metadata": {},
   "source": [
    "## Now give it something to translate"
   ]
  },
  {
   "cell_type": "code",
   "execution_count": 50,
   "metadata": {},
   "outputs": [
    {
     "data": {
      "text/plain": [
       "((tensor([[ 60, 387,   8, 193],\n",
       "          [ 61, 211,  61,   3],\n",
       "          [314,  61,  39,  59],\n",
       "          [285, 511, 557,   6],\n",
       "          [  6,   6,   9,   2],\n",
       "          [  2,   2,   2,   0]]),\n",
       "  [6, 6, 6, 5]),\n",
       " (tensor([[ 22, 456,   7, 606],\n",
       "          [ 80, 539, 209, 209],\n",
       "          [495, 264, 370,  37],\n",
       "          [245,   4, 558,   4],\n",
       "          [  4,   2,   8,   2],\n",
       "          [  2,   0,   2,   0]]),\n",
       "  [6, 5, 6, 5]))"
      ]
     },
     "execution_count": 50,
     "metadata": {},
     "output_type": "execute_result"
    }
   ],
   "source": [
    "val_dataset[1:5]"
   ]
  },
  {
   "cell_type": "code",
   "execution_count": null,
   "metadata": {},
   "outputs": [],
   "source": []
  },
  {
   "cell_type": "code",
   "execution_count": 140,
   "metadata": {},
   "outputs": [],
   "source": [
    "def translate(i, dataset, beamsize, model, input_index2word_dictn, output_index2word_dictn, device = device):\n",
    "    # This calls the .beam_decode() method and we print the results in an orderly fashion.\n",
    "    # i is the sentence index in the dataset\n",
    "\n",
    "    inp = dataset[i][0][0]\n",
    "\n",
    "    print(\"INPUT:\")\n",
    "    print(dec(inp, input_index2word_dictn))\n",
    "    print(\"MODEL ANSWER:\")\n",
    "    print(dec(dataset[i][1][0], output_index2word_dictn))\n",
    "    print(\"\")\n",
    "    \n",
    "    beam = model.beam_decode(beamsize, inp.to(device), max_dec_length = 20)\n",
    "\n",
    "    # Now reorder and print the info from the beam\n",
    "    seqs = []\n",
    "    probs = []\n",
    "    for i in beam:\n",
    "        seq, prob, _ = i\n",
    "        seqs.append(seq)\n",
    "        probs.append(prob)\n",
    "\n",
    "    for k in zip(seqs, probs):\n",
    "            print(dec(torch.tensor(k[0]).unsqueeze(1), output_index2word_dictn), \"     \", round(k[1][0], 2))\n"
   ]
  },
  {
   "cell_type": "code",
   "execution_count": 141,
   "metadata": {},
   "outputs": [
    {
     "name": "stdout",
     "output_type": "stream",
     "text": [
      "INPUT:\n",
      "['tu', 'es', 'important', '.', 'EOS']\n",
      "MODEL ANSWER:\n",
      "['you', 'are', 'important', '.', 'EOS']\n",
      "\n",
      "['you', 're', 'important', '.', 'EOS']       -0.38\n",
      "['you', 're', 'important', 'important', 'EOS']       -1.98\n",
      "['you', 're', 'important', 'EOS']       -3.35\n",
      "['you', 'are', 'important', '.', 'EOS']       -3.52\n",
      "['you', 're', 'important', '.', '.', 'EOS']       -3.97\n"
     ]
    }
   ],
   "source": [
    "translate(10, val_dataset, 5, m, input_lang.index2word, output_lang.index2word)"
   ]
  },
  {
   "cell_type": "code",
   "execution_count": 133,
   "metadata": {},
   "outputs": [
    {
     "name": "stdout",
     "output_type": "stream",
     "text": [
      "INPUT:\n",
      "['garde', 'le', '.', 'EOS']\n",
      "MODEL ANSWER:\n",
      "['keep', 'that', '.', 'EOS']\n",
      "\n",
      "['keep', 'it', '.', 'EOS']       -1.14\n",
      "['keep', 'it', 'EOS']       -2.48\n",
      "['keep', 'it', '.', '.', 'EOS']       -2.84\n",
      "['keep', 'the', '.', 'EOS']       -3.09\n",
      "['keep', 'keep', '.', 'EOS']       -3.26\n"
     ]
    }
   ],
   "source": [
    "translate(11, val_dataset, 5, m, input_lang.index2word, output_lang.index2word)"
   ]
  },
  {
   "cell_type": "code",
   "execution_count": 125,
   "metadata": {},
   "outputs": [
    {
     "name": "stdout",
     "output_type": "stream",
     "text": [
      "INPUT:\n",
      "['c', 'est', 'pour', 'toi', '.', 'EOS']\n",
      "MODEL ANSWER:\n",
      "['that', 's', 'for', 'you', '.', 'EOS']\n",
      "\n",
      "['it', 's', 'for', '.', '.', 'EOS']       -2.43\n",
      "['that', 's', 'for', '.', '.', 'EOS']       -2.49\n",
      "['it', 'is', 'for', '.', '.', 'EOS']       -2.8\n",
      "['that', 's', 'for', '.', 'EOS']       -2.85\n",
      "['this', 's', 'for', '.', '.', 'EOS']       -2.99\n"
     ]
    }
   ],
   "source": [
    "translate(12, val_dataset, 5, m, input_lang.index2word, output_lang.index2word)"
   ]
  },
  {
   "cell_type": "code",
   "execution_count": 127,
   "metadata": {},
   "outputs": [
    {
     "name": "stdout",
     "output_type": "stream",
     "text": [
      "INPUT:\n",
      "['soyez', 'honnete', 'avec', 'moi', '.', 'EOS']\n",
      "MODEL ANSWER:\n",
      "['be', 'honest', 'with', 'me', '.', 'EOS']\n",
      "\n",
      "['that', 'with', 'me', 'me', 'EOS']       -3.73\n",
      "['that', 'with', 'me', '.', 'EOS']       -3.77\n",
      "['this', 'this', '.', '.', 'EOS']       -3.89\n",
      "['this', 'with', 'me', 'me', 'EOS']       -3.98\n",
      "['this', 'this', 'me', '.', 'EOS']       -4.14\n"
     ]
    }
   ],
   "source": [
    "translate(221, val_dataset, 5, m, input_lang.index2word, output_lang.index2word)"
   ]
  },
  {
   "cell_type": "code",
   "execution_count": 136,
   "metadata": {},
   "outputs": [
    {
     "name": "stdout",
     "output_type": "stream",
     "text": [
      "INPUT:\n",
      "['je', 'devrais', 'etre', 'heureuse', '.', 'EOS']\n",
      "MODEL ANSWER:\n",
      "['i', 'should', 'be', 'happy', '.', 'EOS']\n",
      "\n",
      "['i', 'll', 'be', '.', 'EOS']       -1.82\n",
      "['i', 'should', 'be', '.', 'EOS']       -2.26\n",
      "['i', 'll', 'be', '.', '.', 'EOS']       -2.45\n",
      "['i', 'll', 'be', 'EOS']       -2.8\n",
      "['i', 'should', 'be', '.', '.', 'EOS']       -2.87\n",
      "['i', 'll', 'be', 'happy', '.', 'EOS']       -2.96\n",
      "['i', 'll', 'be', 'there', 'EOS']       -3.35\n",
      "['i', 'should', 'be', 'EOS']       -3.36\n",
      "['i', 'll', 'be', 'happy', 'EOS']       -3.9\n",
      "['i', 'll', 'be', 'you', '.', 'EOS']       -3.94\n",
      "['i', 'll', 'be', 'there', '.', 'EOS']       -4.16\n",
      "['i', 'must', 'be', '.', 'EOS']       -4.2\n",
      "['i', 'should', 'be', 'happy', 'EOS']       -4.21\n",
      "['i', 'should', 'be', 'happy', '.', 'EOS']       -4.21\n",
      "['i', 'should', 'be', 'there', 'EOS']       -4.26\n",
      "['i', 'will', 'be', '.', 'EOS']       -4.39\n",
      "['i', 'll', 'be', 'you', 'EOS']       -4.44\n",
      "['i', 'll', 'be', 'more', '.', 'EOS']       -4.55\n",
      "['i', 'can', 'be', '.', 'EOS']       -4.85\n",
      "['i', 'should', 'be', 'there', '.', 'EOS']       -4.86\n",
      "['i', 'must', 'be', '.', '.', 'EOS']       -4.88\n",
      "['i', 'should', 'be', 'you', '.', 'EOS']       -4.96\n",
      "['i', 'should', 'be', 'more', '.', 'EOS']       -5.03\n",
      "['i', 'll', 'be', 'yesterday', '.', 'EOS']       -5.22\n",
      "['i', 'can', 'be', '.', '.', 'EOS']       -5.28\n"
     ]
    }
   ],
   "source": [
    "translate(50, val_dataset, 25, m, input_lang.index2word, output_lang.index2word)"
   ]
  },
  {
   "cell_type": "code",
   "execution_count": null,
   "metadata": {},
   "outputs": [],
   "source": []
  },
  {
   "cell_type": "code",
   "execution_count": null,
   "metadata": {},
   "outputs": [],
   "source": []
  },
  {
   "cell_type": "code",
   "execution_count": 54,
   "metadata": {},
   "outputs": [
    {
     "data": {
      "text/plain": [
       "tensor([[ 60],\n",
       "        [ 61],\n",
       "        [314],\n",
       "        [285],\n",
       "        [  6],\n",
       "        [  2]])"
      ]
     },
     "execution_count": 54,
     "metadata": {},
     "output_type": "execute_result"
    }
   ],
   "source": []
  },
  {
   "cell_type": "code",
   "execution_count": 139,
   "metadata": {},
   "outputs": [],
   "source": []
  },
  {
   "cell_type": "code",
   "execution_count": 55,
   "metadata": {
    "scrolled": true
   },
   "outputs": [
    {
     "data": {
      "text/plain": [
       "[[[207, 80, 495, 245, 4, 2],\n",
       "  [-1.568790921708569],\n",
       "  tensor([[[ 0.1371, -0.1157, -0.9999,  0.9952, -1.0000,  0.4472,  0.0020,\n",
       "             1.0000,  0.4373,  0.8891, -0.9999,  0.5863, -1.0000, -0.1802,\n",
       "            -0.0463,  0.6495, -0.1566,  0.3696, -0.9998, -0.5146, -0.9891,\n",
       "             0.1143,  0.5948,  1.0000, -0.1551, -1.0000, -0.4574, -0.9894,\n",
       "             1.0000, -0.9925, -1.0000, -1.0000, -0.5168, -0.9899, -1.0000,\n",
       "            -0.3049, -0.2378,  0.3452,  0.9927,  0.9969, -0.0854,  0.0173,\n",
       "            -1.0000,  0.4010, -0.3076, -0.3033, -0.7821, -0.3797,  0.9961,\n",
       "             1.0000, -0.1601, -1.0000, -0.4153,  0.2286, -0.2383,  0.8657,\n",
       "             0.4093, -1.0000,  0.9996, -0.0337,  0.3237,  0.9978,  0.2329,\n",
       "             0.9996, -0.8975, -0.2164, -0.0290,  1.0000, -0.0358,  1.0000,\n",
       "             0.3448,  0.1524,  0.9986,  1.0000,  0.9472,  0.9143,  0.5544,\n",
       "             0.2618,  1.0000,  0.3086,  1.0000, -0.4097,  0.9500, -1.0000,\n",
       "            -1.0000, -0.9999, -0.9665,  1.0000, -0.4843,  0.1729]],\n",
       "  \n",
       "          [[ 1.0000, -1.0000, -1.0000, -0.9997,  0.0945, -0.3683, -0.9971,\n",
       "             0.3717, -1.0000,  0.9956,  1.0000, -0.0418,  1.0000,  1.0000,\n",
       "             0.7038, -1.0000,  1.0000,  1.0000, -0.9999, -0.1421,  0.1101,\n",
       "             0.9993,  0.9992, -0.1409,  1.0000,  0.1723, -0.9851,  0.9999,\n",
       "             0.9544, -0.2246,  0.0964, -0.9986,  1.0000,  0.0706, -0.9970,\n",
       "             0.3306,  0.9922,  0.1774,  0.9819,  0.0400,  0.9997, -0.3689,\n",
       "            -0.9944, -0.2416,  0.4500,  0.5967,  0.8926,  1.0000,  1.0000,\n",
       "             0.7530,  0.0603,  0.1642, -0.3100,  0.1276,  1.0000,  0.2263,\n",
       "            -0.9472, -0.9995, -0.9567, -0.2260, -0.9949,  0.9958,  0.5048,\n",
       "            -0.9997, -0.1846, -1.0000,  0.0463,  0.9998, -0.9823,  1.0000,\n",
       "             1.0000,  1.0000, -0.9934,  1.0000,  0.9520, -1.0000,  0.9025,\n",
       "            -0.9995, -0.1179,  0.8343, -0.3599, -1.0000, -0.9991, -0.9999,\n",
       "             0.9999,  1.0000, -0.9915, -0.0175,  0.1231, -0.9332]]],\n",
       "         device='mps:0')],\n",
       " [[22, 80, 495, 245, 4, 2],\n",
       "  [-1.7311469204723835],\n",
       "  tensor([[[ 0.1371, -0.3011, -0.9999,  0.9999, -1.0000,  0.4472, -0.0414,\n",
       "             1.0000,  0.4373,  0.8484, -1.0000,  0.5863, -1.0000,  0.3465,\n",
       "            -0.0463,  0.6495, -0.1566,  0.3696, -0.9999, -0.8552, -0.9992,\n",
       "             0.1143,  0.5948,  0.9999, -0.1610, -1.0000, -0.4330, -0.9998,\n",
       "             1.0000, -0.9889, -1.0000, -1.0000, -0.5012, -0.9936, -1.0000,\n",
       "            -0.3049, -0.2378,  0.4891,  0.9999,  0.9969, -0.1566,  0.0173,\n",
       "            -1.0000, -0.9857, -0.3076, -0.4063, -0.9979, -0.3797,  0.9969,\n",
       "             0.9998, -0.1601, -1.0000, -0.4154,  0.3518,  0.4716,  0.9851,\n",
       "             0.4093, -1.0000,  0.9998, -0.0356,  0.9610,  0.9994,  0.2329,\n",
       "             1.0000, -0.7446, -0.2164, -0.8596,  1.0000, -0.0416,  1.0000,\n",
       "             0.3449,  0.1524,  0.9968,  1.0000, -0.8831,  0.9590,  0.5544,\n",
       "             0.2618,  1.0000,  0.9064,  1.0000, -0.4095,  0.9972, -1.0000,\n",
       "            -1.0000, -0.9997, -0.9976,  0.9999, -0.4843,  0.1730]],\n",
       "  \n",
       "          [[ 1.0000, -1.0000, -1.0000, -0.9998,  0.2042, -0.3685, -0.9997,\n",
       "             0.3717, -1.0000,  0.9845,  1.0000, -0.0418,  1.0000,  1.0000,\n",
       "             0.4608, -1.0000,  1.0000,  1.0000, -0.9999, -0.1594,  0.1093,\n",
       "             0.9990,  0.9996, -0.1410,  1.0000,  0.1710, -0.9899,  0.9999,\n",
       "             0.4406, -0.2249,  0.0965, -0.9984,  1.0000,  0.0706, -0.9868,\n",
       "             0.2300,  0.9882,  0.2720,  0.9967,  0.0400,  0.9997, -0.3732,\n",
       "            -0.9957, -0.2486,  0.3983,  0.4990,  0.9815,  1.0000,  1.0000,\n",
       "             0.9532,  0.0599,  0.1644, -0.3104,  0.1277,  1.0000,  0.2255,\n",
       "            -0.8760, -0.9993, -0.7352, -0.2260, -0.9918,  0.9924,  0.5048,\n",
       "            -0.9994, -0.1797, -1.0000,  0.0436,  0.9986, -0.9765,  1.0000,\n",
       "             1.0000,  0.9999, -0.9997,  1.0000,  0.9642, -1.0000,  0.9540,\n",
       "            -0.9997, -0.1318,  0.9256, -0.3599, -1.0000, -0.9986, -0.9999,\n",
       "             1.0000,  1.0000, -0.9706, -0.0175,  0.1231, -0.9792]]],\n",
       "         device='mps:0')],\n",
       " [[113, 80, 495, 245, 4, 2],\n",
       "  [-2.3812428205274045],\n",
       "  tensor([[[ 0.1387, -0.7673, -0.9999,  0.9994, -1.0000,  0.4472, -0.0099,\n",
       "             1.0000,  0.4373, -0.9537, -0.9998,  0.5863, -1.0000,  0.0875,\n",
       "            -0.0463,  0.6495, -0.1565,  0.3696, -0.9989,  0.6520, -0.9952,\n",
       "             0.1143,  0.5949,  1.0000, -0.1539, -1.0000, -0.4256, -0.9810,\n",
       "             1.0000, -0.9892, -1.0000, -1.0000, -0.5074, -0.9966, -1.0000,\n",
       "            -0.3049, -0.2378,  0.5012,  0.9999,  0.9969, -0.0899,  0.0173,\n",
       "            -1.0000,  0.4009, -0.3076, -0.3036, -0.9934, -0.3797,  0.9869,\n",
       "             0.9999, -0.1601, -1.0000, -0.9989,  0.0914, -0.1292,  0.9406,\n",
       "             0.4093, -1.0000,  1.0000, -0.0338,  0.5876,  0.9973,  0.2329,\n",
       "             0.9991, -0.8506, -0.2164, -0.6664,  1.0000, -0.0460,  1.0000,\n",
       "             0.3449,  0.1524,  0.9988,  1.0000,  0.1637,  0.9821,  0.5544,\n",
       "             0.2618,  1.0000,  0.8535,  1.0000, -0.4097,  0.9918, -1.0000,\n",
       "            -1.0000, -0.9999, -0.9947,  1.0000, -0.4843,  0.1725]],\n",
       "  \n",
       "          [[ 1.0000, -1.0000, -1.0000, -1.0000,  0.1624, -0.3683, -0.9984,\n",
       "             0.3717, -1.0000,  0.9960,  1.0000, -0.0418,  1.0000,  1.0000,\n",
       "             0.5222, -1.0000,  1.0000,  1.0000, -0.9999, -0.1452,  0.1093,\n",
       "             0.9983,  0.9995, -0.1408,  1.0000,  0.1703, -0.9933,  0.9999,\n",
       "             0.8993, -0.2245,  0.0963, -0.9958,  1.0000,  0.0706, -0.9604,\n",
       "             0.3156,  0.9728, -0.3578,  0.9945,  0.0402,  0.9998, -0.3729,\n",
       "            -0.9961, -0.2500,  0.4021,  0.5023,  0.9390,  1.0000,  1.0000,\n",
       "             0.8659,  0.0602,  0.1642, -0.3111,  0.1275,  1.0000,  0.2249,\n",
       "            -0.9087, -0.9971, -0.7766, -0.2260, -0.9954,  0.9887,  0.5048,\n",
       "            -0.9999, -0.1850, -1.0000,  0.0595,  0.9676, -0.9939,  1.0000,\n",
       "             1.0000,  0.9999, -0.9958,  1.0000,  0.9623, -1.0000,  0.6536,\n",
       "            -1.0000, -0.1281,  0.9240, -0.3599, -1.0000, -0.9988, -0.9999,\n",
       "             1.0000,  1.0000, -0.9930, -0.0175,  0.1231, -0.9729]]],\n",
       "         device='mps:0')],\n",
       " [[207, 80, 495, 245, 2],\n",
       "  [-2.931749388575554],\n",
       "  tensor([[[ 0.1372, -0.9986,  0.9999,  0.5588, -0.9981,  0.4472,  0.0021,\n",
       "             1.0000,  0.4373,  0.9837, -0.2224,  0.5863, -0.9973, -0.2433,\n",
       "            -0.0463,  0.6495, -0.1566,  0.3696, -0.9803, -0.9084,  0.2174,\n",
       "             0.1143,  0.5948,  1.0000, -0.1551, -1.0000, -0.4652, -0.9892,\n",
       "             0.4809,  0.9995, -1.0000, -1.0000, -0.4898,  0.9996, -0.9996,\n",
       "            -0.3049, -0.2378,  0.3456,  0.9927,  0.9995, -0.0817,  0.0173,\n",
       "            -1.0000,  0.4010, -0.3076, -0.3114,  0.3999, -0.3797,  0.9957,\n",
       "             0.9999, -0.1601,  1.0000, -0.4153,  0.2286, -0.2434,  0.8657,\n",
       "             0.4093, -1.0000,  0.9996, -0.0336, -0.1871,  0.4600,  0.2329,\n",
       "             0.9996, -0.8583, -0.2164, -0.0290,  0.9624, -0.0359,  1.0000,\n",
       "             0.3448,  0.1524,  1.0000, -0.6680,  0.9472, -0.5673,  0.5543,\n",
       "             0.2618,  1.0000, -0.5751,  0.5964, -0.4096,  0.2105,  1.0000,\n",
       "            -0.9999, -0.7141, -0.9177,  0.9991, -0.4843,  0.1729]],\n",
       "  \n",
       "          [[ 1.0000, -0.8586, -1.0000, -0.5041,  0.0317, -0.3684, -0.1112,\n",
       "             0.3717, -0.9793,  0.0495,  0.9988, -0.0418,  1.0000,  0.9784,\n",
       "            -0.0068, -0.9184,  0.9992,  0.0208,  1.0000, -0.1297,  0.1101,\n",
       "             0.0959,  0.1077, -0.1411,  1.0000,  0.1723, -0.9828, -0.4757,\n",
       "             0.9519, -0.2246,  0.0963, -0.0080,  1.0000,  0.0707, -0.9964,\n",
       "             0.4757,  0.4800,  0.1775,  0.9308,  0.0398, -0.2524, -0.3689,\n",
       "             0.4484, -0.2439,  0.3740,  0.5323,  0.1007,  0.1170,  0.9968,\n",
       "             0.9992,  0.0603,  0.1640, -0.3101,  0.1277,  0.9807,  0.2237,\n",
       "             0.2223,  0.2404,  0.0960, -0.2260, -0.1227, -0.0913,  0.5048,\n",
       "            -0.9926, -0.1840, -0.9914,  0.0407,  1.0000, -0.0744, -0.1406,\n",
       "             0.9937, -0.1386, -0.9881,  0.9967,  0.9520,  0.0889, -0.0074,\n",
       "            -0.9964, -0.1113,  0.8343, -0.3599, -0.5718, -0.1375, -0.0701,\n",
       "             0.9991,  1.0000,  0.1527, -0.0175,  0.1231, -0.9312]]],\n",
       "         device='mps:0')],\n",
       " [[207, 209, 495, 245, 4, 2],\n",
       "  [-2.9401264311745763],\n",
       "  tensor([[[ 0.5449, -0.7837, -0.9999,  0.9937, -1.0000,  0.4472, -0.1925,\n",
       "             1.0000,  0.4373, -1.0000, -0.9999,  0.5863, -1.0000, -0.6797,\n",
       "            -0.0464,  0.6495, -0.1566,  0.3695,  0.1845,  0.2369, -0.9908,\n",
       "             0.1143,  0.5949,  1.0000, -0.1578, -1.0000, -0.4517, -0.8436,\n",
       "             1.0000, -0.9854, -1.0000, -1.0000, -0.9519, -0.9786, -1.0000,\n",
       "            -0.3049, -0.2378,  0.2792,  0.9999,  0.9970,  0.3091,  0.0173,\n",
       "            -1.0000,  0.4074, -0.3076, -0.2698, -0.9976, -0.3797,  0.9901,\n",
       "             0.9999, -0.1601, -1.0000, -0.4178,  0.2776,  0.4231,  0.9978,\n",
       "             0.4094, -1.0000,  1.0000, -0.0336,  0.4282,  0.9962,  0.2329,\n",
       "             0.9987, -0.9831, -0.2164, -0.8229,  1.0000, -0.7130,  0.9988,\n",
       "             0.3449,  0.1524,  0.9988,  1.0000,  0.9472,  0.9957,  0.5544,\n",
       "             0.2618,  1.0000,  0.9838,  1.0000, -0.4096,  0.9931, -1.0000,\n",
       "            -1.0000, -1.0000, -0.9988,  1.0000, -0.4843,  0.1729]],\n",
       "  \n",
       "          [[ 1.0000, -1.0000, -1.0000, -0.9994,  0.1196, -0.3685, -0.9980,\n",
       "             0.3717, -0.9999,  0.9906,  1.0000, -0.0418,  1.0000,  1.0000,\n",
       "             0.7288, -1.0000,  1.0000,  1.0000, -0.9986, -0.1410,  0.1106,\n",
       "             0.9954,  0.9995, -0.1410,  1.0000,  0.1695, -0.9954,  0.9956,\n",
       "             0.9389, -0.2245,  0.0963, -0.9899,  1.0000,  0.0706, -0.9960,\n",
       "             0.5838,  0.9767,  0.1828,  0.9930,  0.0401,  0.9998, -0.3689,\n",
       "            -0.9930, -0.2483,  0.4235,  0.6000,  0.9778,  1.0000,  1.0000,\n",
       "             0.9923,  0.0603,  0.1645, -0.3100,  0.1269,  1.0000,  0.2248,\n",
       "            -0.7974, -0.9965, -0.6723, -0.2260, -0.9954,  0.8977,  0.5048,\n",
       "            -0.9992, -0.2102, -1.0000,  0.0583,  0.9739, -0.9860,  0.9999,\n",
       "             1.0000,  0.9997, -0.9979,  1.0000,  0.9403, -1.0000,  0.2768,\n",
       "            -0.9999, -0.1150,  0.8293, -0.3599, -1.0000, -0.9952, -0.9999,\n",
       "             1.0000,  1.0000, -0.9811, -0.0175,  0.1231, -0.9858]]],\n",
       "         device='mps:0')]]"
      ]
     },
     "execution_count": 55,
     "metadata": {},
     "output_type": "execute_result"
    }
   ],
   "source": [
    "m.beam_decode(5, val_dataset[1][0][0], 7)"
   ]
  },
  {
   "cell_type": "code",
   "execution_count": null,
   "metadata": {},
   "outputs": [],
   "source": []
  },
  {
   "cell_type": "code",
   "execution_count": 65,
   "metadata": {},
   "outputs": [
    {
     "data": {
      "text/plain": [
       "tensor([154, 331, 376,   6,   2])"
      ]
     },
     "execution_count": 65,
     "metadata": {},
     "output_type": "execute_result"
    }
   ],
   "source": [
    "val_dataset[10][0][0].flatten()"
   ]
  },
  {
   "cell_type": "code",
   "execution_count": 71,
   "metadata": {},
   "outputs": [
    {
     "data": {
      "text/plain": [
       "['tu', 'es', 'important', '.', 'EOS']"
      ]
     },
     "execution_count": 71,
     "metadata": {},
     "output_type": "execute_result"
    }
   ],
   "source": [
    "dec(val_dataset[10][0][0], input_lang.index2word)"
   ]
  },
  {
   "cell_type": "code",
   "execution_count": null,
   "metadata": {},
   "outputs": [],
   "source": []
  },
  {
   "cell_type": "code",
   "execution_count": 138,
   "metadata": {
    "executionInfo": {
     "elapsed": 14,
     "status": "ok",
     "timestamp": 1667993578373,
     "user": {
      "displayName": "Gatis Mikelsons",
      "userId": "14730005653465610901"
     },
     "user_tz": 0
    },
    "id": "4xJcJ1dovWn7"
   },
   "outputs": [],
   "source": [
    "def dec(inpt, index2word_dictn):\n",
    "    # This function takes a single tokenised sentence and translates the tokens, based on the dictionary provided.\n",
    "\n",
    "    inpt = inpt.numpy()\n",
    "    assert inpt.shape[1] == 1, \"More than one sequence input\"\n",
    "\n",
    "    return [index2word_dictn[k] for k in inpt.flatten()]"
   ]
  },
  {
   "cell_type": "code",
   "execution_count": 94,
   "metadata": {},
   "outputs": [
    {
     "data": {
      "text/plain": [
       "['tom', 'seems', 'satisfied', '.', 'EOS']"
      ]
     },
     "execution_count": 94,
     "metadata": {},
     "output_type": "execute_result"
    }
   ],
   "source": [
    "dec(val_dataset[13][1][0], output_lang.index2word)"
   ]
  },
  {
   "cell_type": "code",
   "execution_count": null,
   "metadata": {
    "colab": {
     "base_uri": "https://localhost:8080/"
    },
    "executionInfo": {
     "elapsed": 56,
     "status": "ok",
     "timestamp": 1667945727025,
     "user": {
      "displayName": "Gatis Mikelsons",
      "userId": "14730005653465610901"
     },
     "user_tz": 0
    },
    "id": "3YYeKaeo2iqX",
    "outputId": "5524b6f4-5a73-4ca8-896e-bb543028665c"
   },
   "outputs": [],
   "source": []
  },
  {
   "cell_type": "code",
   "execution_count": 84,
   "metadata": {
    "executionInfo": {
     "elapsed": 31795,
     "status": "ok",
     "timestamp": 1667996263731,
     "user": {
      "displayName": "Gatis Mikelsons",
      "userId": "14730005653465610901"
     },
     "user_tz": 0
    },
    "id": "HR1cO_OGM2Ub"
   },
   "outputs": [
    {
     "data": {
      "text/plain": [
       "1"
      ]
     },
     "execution_count": 84,
     "metadata": {},
     "output_type": "execute_result"
    }
   ],
   "source": [
    "val_dataset[10][1][0].numpy().shape[1]"
   ]
  },
  {
   "cell_type": "code",
   "execution_count": 117,
   "metadata": {
    "colab": {
     "base_uri": "https://localhost:8080/"
    },
    "executionInfo": {
     "elapsed": 198,
     "status": "ok",
     "timestamp": 1667996267440,
     "user": {
      "displayName": "Gatis Mikelsons",
      "userId": "14730005653465610901"
     },
     "user_tz": 0
    },
    "id": "MGnZOT-UM2Od",
    "outputId": "6bf633e8-aaf5-47df-8970-c7ddc371cd1f"
   },
   "outputs": [
    {
     "data": {
      "text/plain": [
       "1.8200318813323975"
      ]
     },
     "execution_count": 117,
     "metadata": {},
     "output_type": "execute_result"
    }
   ],
   "source": [
    "val_loss"
   ]
  },
  {
   "cell_type": "code",
   "execution_count": null,
   "metadata": {
    "id": "H5Tjzp7AOOCc"
   },
   "outputs": [],
   "source": [
    "# still very close"
   ]
  },
  {
   "cell_type": "code",
   "execution_count": 104,
   "metadata": {
    "colab": {
     "base_uri": "https://localhost:8080/"
    },
    "executionInfo": {
     "elapsed": 226,
     "status": "ok",
     "timestamp": 1667994958434,
     "user": {
      "displayName": "Gatis Mikelsons",
      "userId": "14730005653465610901"
     },
     "user_tz": 0
    },
    "id": "S8TqqhClON4v",
    "outputId": "971fac4b-7653-4325-ba41-806cea8d2e9c"
   },
   "outputs": [
    {
     "data": {
      "text/plain": [
       "((tensor([[261],\n",
       "          [501],\n",
       "          [177],\n",
       "          [178],\n",
       "          [103],\n",
       "          [720],\n",
       "          [ 12],\n",
       "          [  2]]), [8]), (tensor([[246],\n",
       "          [113],\n",
       "          [295],\n",
       "          [227],\n",
       "          [437],\n",
       "          [  9],\n",
       "          [  2]]), [7]))"
      ]
     },
     "execution_count": 104,
     "metadata": {},
     "output_type": "execute_result"
    }
   ],
   "source": [
    "val_dataset[3]"
   ]
  },
  {
   "cell_type": "code",
   "execution_count": 118,
   "metadata": {
    "executionInfo": {
     "elapsed": 212,
     "status": "ok",
     "timestamp": 1667996335664,
     "user": {
      "displayName": "Gatis Mikelsons",
      "userId": "14730005653465610901"
     },
     "user_tz": 0
    },
    "id": "QWSx-c1DQGAG"
   },
   "outputs": [],
   "source": [
    "beam = model_for_eval.beam_decode(3, val_dataset[3][0][0].to(device), 9)"
   ]
  },
  {
   "cell_type": "code",
   "execution_count": 122,
   "metadata": {
    "executionInfo": {
     "elapsed": 7,
     "status": "ok",
     "timestamp": 1667996477959,
     "user": {
      "displayName": "Gatis Mikelsons",
      "userId": "14730005653465610901"
     },
     "user_tz": 0
    },
    "id": "OsQEuKXcvWn_"
   },
   "outputs": [],
   "source": [
    "seqs = []\n",
    "probs = []\n",
    "\n",
    "for i in  beam:\n",
    "  seq, prob, _ = i\n",
    "  seqs.append(seq)\n",
    "  probs.append(prob)"
   ]
  },
  {
   "cell_type": "code",
   "execution_count": 123,
   "metadata": {
    "colab": {
     "base_uri": "https://localhost:8080/"
    },
    "executionInfo": {
     "elapsed": 10,
     "status": "ok",
     "timestamp": 1667996493046,
     "user": {
      "displayName": "Gatis Mikelsons",
      "userId": "14730005653465610901"
     },
     "user_tz": 0
    },
    "id": "uLgISuN_vWn_",
    "outputId": "eba0431f-c32b-4dce-9491-335aad2e250a"
   },
   "outputs": [
    {
     "data": {
      "text/plain": [
       "([[246, 113, 295, 132, 437, 9, 2],\n",
       "  [246, 113, 295, 227, 437, 437, 2],\n",
       "  [246, 113, 295, 227, 437, 9, 2]],\n",
       " [[-3.030233731493354], [-3.3888775166124105], [-3.5591217633336782]])"
      ]
     },
     "execution_count": 123,
     "metadata": {},
     "output_type": "execute_result"
    }
   ],
   "source": [
    "seqs, probs"
   ]
  },
  {
   "cell_type": "code",
   "execution_count": null,
   "metadata": {
    "id": "xVvbDsLPvWn_"
   },
   "outputs": [],
   "source": []
  },
  {
   "cell_type": "code",
   "execution_count": 187,
   "metadata": {
    "id": "jENGA_xEvWn_"
   },
   "outputs": [
    {
     "name": "stderr",
     "output_type": "stream",
     "text": [
      "[autoreload of sr2_functions_new failed: Traceback (most recent call last):\n",
      "  File \"/Users/sr_old/Desktop/sr2/p3sr2/lib/python3.6/site-packages/IPython/extensions/autoreload.py\", line 245, in check\n",
      "    superreload(m, reload, self.old_objects)\n",
      "  File \"/Users/sr_old/Desktop/sr2/p3sr2/lib/python3.6/site-packages/IPython/extensions/autoreload.py\", line 394, in superreload\n",
      "    module = reload(module)\n",
      "  File \"/usr/local/opt/python@3.6/Frameworks/Python.framework/Versions/3.6/lib/python3.6/imp.py\", line 315, in reload\n",
      "    return importlib.reload(module)\n",
      "  File \"/usr/local/opt/python@3.6/Frameworks/Python.framework/Versions/3.6/lib/python3.6/importlib/__init__.py\", line 166, in reload\n",
      "    _bootstrap._exec(spec, module)\n",
      "  File \"<frozen importlib._bootstrap>\", line 618, in _exec\n",
      "  File \"<frozen importlib._bootstrap_external>\", line 678, in exec_module\n",
      "  File \"<frozen importlib._bootstrap>\", line 219, in _call_with_frames_removed\n",
      "  File \"/Users/sr_old/Desktop/sr2/sr2_functions_new.py\", line 56, in <module>\n",
      "    from google.colab import files\n",
      "ModuleNotFoundError: No module named 'google.colab'\n",
      "]\n"
     ]
    },
    {
     "data": {
      "text/latex": [
       "$\\displaystyle -1.6094379124341$"
      ],
      "text/plain": [
       "-1.60943791243410"
      ]
     },
     "execution_count": 187,
     "metadata": {},
     "output_type": "execute_result"
    }
   ],
   "source": [
    "log(0.2)"
   ]
  },
  {
   "cell_type": "code",
   "execution_count": 190,
   "metadata": {
    "id": "1y-eafROvWn_"
   },
   "outputs": [
    {
     "data": {
      "text/latex": [
       "$\\displaystyle -8.51719319141624$"
      ],
      "text/plain": [
       "-8.51719319141624"
      ]
     },
     "execution_count": 190,
     "metadata": {},
     "output_type": "execute_result"
    }
   ],
   "source": [
    "log(0.0002)"
   ]
  },
  {
   "cell_type": "code",
   "execution_count": null,
   "metadata": {
    "id": "_szg3yF3vWn_"
   },
   "outputs": [],
   "source": []
  },
  {
   "cell_type": "code",
   "execution_count": null,
   "metadata": {
    "id": "ydAkemdIR0qd"
   },
   "outputs": [],
   "source": []
  },
  {
   "cell_type": "code",
   "execution_count": null,
   "metadata": {
    "id": "S8JmKUWfR0qd"
   },
   "outputs": [],
   "source": []
  },
  {
   "cell_type": "code",
   "execution_count": null,
   "metadata": {
    "id": "rUyMPRzZR0qe"
   },
   "outputs": [],
   "source": []
  }
 ],
 "metadata": {
  "accelerator": "GPU",
  "anaconda-cloud": {},
  "colab": {
   "collapsed_sections": [
    "vdbLKfzPR0qB",
    "Xzu9e8QJR0qZ"
   ],
   "provenance": []
  },
  "gpuClass": "standard",
  "kernelspec": {
   "display_name": "Python 3 (ipykernel)",
   "language": "python",
   "name": "python3"
  },
  "language_info": {
   "codemirror_mode": {
    "name": "ipython",
    "version": 3
   },
   "file_extension": ".py",
   "mimetype": "text/x-python",
   "name": "python",
   "nbconvert_exporter": "python",
   "pygments_lexer": "ipython3",
   "version": "3.10.13"
  }
 },
 "nbformat": 4,
 "nbformat_minor": 4
}
