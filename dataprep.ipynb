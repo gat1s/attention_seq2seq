{
 "cells": [
  {
   "cell_type": "code",
   "execution_count": 83,
   "metadata": {
    "executionInfo": {
     "elapsed": 225,
     "status": "ok",
     "timestamp": 1667993530412,
     "user": {
      "displayName": "Gatis Mikelsons",
      "userId": "14730005653465610901"
     },
     "user_tz": 0
    },
    "id": "yTweMLOmR9Vi"
   },
   "outputs": [],
   "source": [
    "# This notebook loads the dataset and does data preprocessing.\n",
    "# We convert the sentence pairs into 2 instances of a custom PyTorch dataset class for train and validation.\n",
    "\n",
    "# Possible extensions: We could institute an <unknown> token.\n",
    "#     We could trim vocabulary differently to ensure both the (trimmed) input and output vocabularies have equal size. \n",
    "#"
   ]
  },
  {
   "cell_type": "code",
   "execution_count": null,
   "metadata": {},
   "outputs": [],
   "source": []
  },
  {
   "cell_type": "code",
   "execution_count": null,
   "metadata": {},
   "outputs": [],
   "source": []
  },
  {
   "cell_type": "code",
   "execution_count": 84,
   "metadata": {},
   "outputs": [
    {
     "name": "stdout",
     "output_type": "stream",
     "text": [
      "/Users/sr_old/Desktop/attention_seq2seq\n"
     ]
    }
   ],
   "source": [
    "!pwd"
   ]
  },
  {
   "cell_type": "code",
   "execution_count": 85,
   "metadata": {
    "executionInfo": {
     "elapsed": 9,
     "status": "ok",
     "timestamp": 1667993531067,
     "user": {
      "displayName": "Gatis Mikelsons",
      "userId": "14730005653465610901"
     },
     "user_tz": 0
    },
    "id": "j_4Zesv4R0pw"
   },
   "outputs": [
    {
     "name": "stdout",
     "output_type": "stream",
     "text": [
      "/Users/sr_old/Desktop/attention_seq2seq/p3.10_attention_seq2seq/bin/python\n",
      "3.10.13 (main, Aug 24 2023, 22:36:46) [Clang 14.0.3 (clang-1403.0.22.14.1)]\n"
     ]
    }
   ],
   "source": [
    "import sys\n",
    "print(sys.executable)\n",
    "print(sys.version)"
   ]
  },
  {
   "cell_type": "code",
   "execution_count": null,
   "metadata": {
    "executionInfo": {
     "elapsed": 13,
     "status": "ok",
     "timestamp": 1667993549969,
     "user": {
      "displayName": "Gatis Mikelsons",
      "userId": "14730005653465610901"
     },
     "user_tz": 0
    },
    "id": "uKCSSSzgR0px"
   },
   "outputs": [],
   "source": []
  },
  {
   "cell_type": "markdown",
   "metadata": {
    "id": "FXN7_Zd8R0py"
   },
   "source": [
    "## Imports"
   ]
  },
  {
   "cell_type": "code",
   "execution_count": 86,
   "metadata": {
    "executionInfo": {
     "elapsed": 9,
     "status": "ok",
     "timestamp": 1667993549971,
     "user": {
      "displayName": "Gatis Mikelsons",
      "userId": "14730005653465610901"
     },
     "user_tz": 0
    },
    "id": "v_OTN1RsR0pz"
   },
   "outputs": [],
   "source": [
    "import re"
   ]
  },
  {
   "cell_type": "code",
   "execution_count": 87,
   "metadata": {
    "executionInfo": {
     "elapsed": 1919,
     "status": "ok",
     "timestamp": 1667993551882,
     "user": {
      "displayName": "Gatis Mikelsons",
      "userId": "14730005653465610901"
     },
     "user_tz": 0
    },
    "id": "gjvOdrVQR0p0"
   },
   "outputs": [],
   "source": [
    "\n",
    "import random\n",
    "import numpy as np"
   ]
  },
  {
   "cell_type": "code",
   "execution_count": 88,
   "metadata": {
    "executionInfo": {
     "elapsed": 11,
     "status": "ok",
     "timestamp": 1667993551882,
     "user": {
      "displayName": "Gatis Mikelsons",
      "userId": "14730005653465610901"
     },
     "user_tz": 0
    },
    "id": "c0HRxPJgR0p0"
   },
   "outputs": [],
   "source": [
    "import torch"
   ]
  },
  {
   "cell_type": "code",
   "execution_count": 89,
   "metadata": {
    "executionInfo": {
     "elapsed": 9,
     "status": "ok",
     "timestamp": 1667993551886,
     "user": {
      "displayName": "Gatis Mikelsons",
      "userId": "14730005653465610901"
     },
     "user_tz": 0
    },
    "id": "GraMD30TR0p3"
   },
   "outputs": [
    {
     "name": "stdout",
     "output_type": "stream",
     "text": [
      "The autoreload extension is already loaded. To reload it, use:\n",
      "  %reload_ext autoreload\n"
     ]
    }
   ],
   "source": [
    "%load_ext autoreload\n",
    "%autoreload 2"
   ]
  },
  {
   "cell_type": "code",
   "execution_count": 90,
   "metadata": {},
   "outputs": [],
   "source": [
    "import pickle"
   ]
  },
  {
   "cell_type": "code",
   "execution_count": 91,
   "metadata": {},
   "outputs": [],
   "source": [
    "from dataprep_functions import *"
   ]
  },
  {
   "cell_type": "code",
   "execution_count": null,
   "metadata": {},
   "outputs": [],
   "source": []
  },
  {
   "cell_type": "markdown",
   "metadata": {
    "id": "2t9E_mHER0p5"
   },
   "source": [
    "## Seed"
   ]
  },
  {
   "cell_type": "code",
   "execution_count": 92,
   "metadata": {
    "executionInfo": {
     "elapsed": 12,
     "status": "ok",
     "timestamp": 1667993553718,
     "user": {
      "displayName": "Gatis Mikelsons",
      "userId": "14730005653465610901"
     },
     "user_tz": 0
    },
    "id": "LBEwQWsOR0p9"
   },
   "outputs": [],
   "source": [
    "seed = 42"
   ]
  },
  {
   "cell_type": "code",
   "execution_count": 93,
   "metadata": {
    "executionInfo": {
     "elapsed": 12,
     "status": "ok",
     "timestamp": 1667993553719,
     "user": {
      "displayName": "Gatis Mikelsons",
      "userId": "14730005653465610901"
     },
     "user_tz": 0
    },
    "id": "VP88-LbZR0p9"
   },
   "outputs": [
    {
     "data": {
      "text/plain": [
       "<torch._C.Generator at 0x107f9b0d0>"
      ]
     },
     "execution_count": 93,
     "metadata": {},
     "output_type": "execute_result"
    }
   ],
   "source": [
    "#rng = np.random.default_rng(seed)\n",
    "random.seed(seed)\n",
    "torch.manual_seed(seed)"
   ]
  },
  {
   "cell_type": "code",
   "execution_count": null,
   "metadata": {
    "executionInfo": {
     "elapsed": 12,
     "status": "ok",
     "timestamp": 1667993553720,
     "user": {
      "displayName": "Gatis Mikelsons",
      "userId": "14730005653465610901"
     },
     "user_tz": 0
    },
    "id": "_utQ_MlrR0p-"
   },
   "outputs": [],
   "source": []
  },
  {
   "cell_type": "code",
   "execution_count": null,
   "metadata": {
    "executionInfo": {
     "elapsed": 11,
     "status": "ok",
     "timestamp": 1667993553720,
     "user": {
      "displayName": "Gatis Mikelsons",
      "userId": "14730005653465610901"
     },
     "user_tz": 0
    },
    "id": "D8Y77g9RR0p-"
   },
   "outputs": [],
   "source": []
  },
  {
   "cell_type": "markdown",
   "metadata": {
    "id": "PL-ZtZWPR0p-"
   },
   "source": [
    "## Variables"
   ]
  },
  {
   "cell_type": "code",
   "execution_count": 94,
   "metadata": {},
   "outputs": [],
   "source": [
    "# Name of the folder where data is accessed and saved\n",
    "path = \"datasets\""
   ]
  },
  {
   "cell_type": "code",
   "execution_count": null,
   "metadata": {
    "executionInfo": {
     "elapsed": 11,
     "status": "ok",
     "timestamp": 1667993553720,
     "user": {
      "displayName": "Gatis Mikelsons",
      "userId": "14730005653465610901"
     },
     "user_tz": 0
    },
    "id": "2gpEyXeQR0p_"
   },
   "outputs": [],
   "source": []
  },
  {
   "cell_type": "code",
   "execution_count": 95,
   "metadata": {
    "executionInfo": {
     "elapsed": 13,
     "status": "ok",
     "timestamp": 1667993553939,
     "user": {
      "displayName": "Gatis Mikelsons",
      "userId": "14730005653465610901"
     },
     "user_tz": 0
    },
    "id": "FFJeFjqBR0p_"
   },
   "outputs": [],
   "source": [
    "# We will use these to filter the training data, based on token length.\n",
    "MIN_LENGTH = 2\n",
    "MAX_LENGTH = 5"
   ]
  },
  {
   "cell_type": "code",
   "execution_count": 96,
   "metadata": {
    "executionInfo": {
     "elapsed": 11,
     "status": "ok",
     "timestamp": 1667993553940,
     "user": {
      "displayName": "Gatis Mikelsons",
      "userId": "14730005653465610901"
     },
     "user_tz": 0
    },
    "id": "csPky7OlR0qA"
   },
   "outputs": [],
   "source": [
    "# This will let us throw out some of the training data, due to presence of unpopular words.\n",
    "# This counts the minimum number of times a word should appear in the data.\n",
    "MIN_COUNT = 15"
   ]
  },
  {
   "cell_type": "code",
   "execution_count": null,
   "metadata": {},
   "outputs": [],
   "source": []
  },
  {
   "cell_type": "code",
   "execution_count": null,
   "metadata": {
    "executionInfo": {
     "elapsed": 12,
     "status": "ok",
     "timestamp": 1667993553941,
     "user": {
      "displayName": "Gatis Mikelsons",
      "userId": "14730005653465610901"
     },
     "user_tz": 0
    },
    "id": "EQaVXJaCR0qA"
   },
   "outputs": [],
   "source": []
  },
  {
   "cell_type": "code",
   "execution_count": 97,
   "metadata": {},
   "outputs": [],
   "source": [
    "# These not to be changed.\n",
    "PAD_token = 0\n",
    "SOS_token = 1\n",
    "EOS_token = 2"
   ]
  },
  {
   "cell_type": "code",
   "execution_count": null,
   "metadata": {
    "executionInfo": {
     "elapsed": 11,
     "status": "ok",
     "timestamp": 1667993553941,
     "user": {
      "displayName": "Gatis Mikelsons",
      "userId": "14730005653465610901"
     },
     "user_tz": 0
    },
    "id": "9eK6QXRKR0qA"
   },
   "outputs": [],
   "source": []
  },
  {
   "cell_type": "markdown",
   "metadata": {
    "id": "MKagz7XGR0qB"
   },
   "source": [
    "## 1. Data preprocessing steps"
   ]
  },
  {
   "cell_type": "code",
   "execution_count": null,
   "metadata": {
    "executionInfo": {
     "elapsed": 10,
     "status": "ok",
     "timestamp": 1667993553943,
     "user": {
      "displayName": "Gatis Mikelsons",
      "userId": "14730005653465610901"
     },
     "user_tz": 0
    },
    "id": "O9Ot3dlcR0qD"
   },
   "outputs": [],
   "source": []
  },
  {
   "cell_type": "code",
   "execution_count": 98,
   "metadata": {
    "executionInfo": {
     "elapsed": 10,
     "status": "ok",
     "timestamp": 1667993553944,
     "user": {
      "displayName": "Gatis Mikelsons",
      "userId": "14730005653465610901"
     },
     "user_tz": 0
    },
    "id": "Hh5sf54xR0qE",
    "scrolled": true
   },
   "outputs": [],
   "source": [
    "def prepare_data(lang1_name, lang2_name, MIN_LENGTH, MAX_LENGTH, path = \"datasets\", reverse=False):\n",
    "    # A high-level function that calls the text processing methods.\n",
    "    \n",
    "    input_lang, output_lang, pairs = read_langs(lang1_name, lang2_name, path, reverse)\n",
    "    print(\"Read %d sentence pairs\" % len(pairs))\n",
    "    \n",
    "    pairs = filter_pairs(pairs, MIN_LENGTH, MAX_LENGTH)\n",
    "    print(\"Filtered to %d pairs\" % len(pairs))\n",
    "    \n",
    "    print(\"Indexing words...\")\n",
    "    for pair in pairs:\n",
    "        input_lang.index_words(pair[0])\n",
    "        output_lang.index_words(pair[1])\n",
    "    \n",
    "    print('Indexed %d words in input language, %d words in output language.' % (input_lang.n_words, output_lang.n_words))\n",
    "    \n",
    "    # We output two language classes and a dataset of sentence pairs.\n",
    "    return input_lang, output_lang, pairs"
   ]
  },
  {
   "cell_type": "code",
   "execution_count": 99,
   "metadata": {},
   "outputs": [],
   "source": [
    "# Below we make the decision to \"reverse\" the translation task, so translating from French to English."
   ]
  },
  {
   "cell_type": "code",
   "execution_count": 100,
   "metadata": {
    "colab": {
     "base_uri": "https://localhost:8080/"
    },
    "executionInfo": {
     "elapsed": 15155,
     "status": "ok",
     "timestamp": 1667993569090,
     "user": {
      "displayName": "Gatis Mikelsons",
      "userId": "14730005653465610901"
     },
     "user_tz": 0
    },
    "id": "HW5S7DEwR0qE",
    "outputId": "b36453b5-9bd5-48fc-f163-dbe12547e653"
   },
   "outputs": [
    {
     "name": "stdout",
     "output_type": "stream",
     "text": [
      "Reading file...\n",
      "Read 192341 sentence pairs\n",
      "Filtered to 27282 pairs\n",
      "Indexing words...\n",
      "Indexed 8360 words in input language, 5112 words in output language.\n"
     ]
    }
   ],
   "source": [
    "input_lang, output_lang, pairs = prepare_data('eng', 'fra', MIN_LENGTH, MAX_LENGTH, reverse = True)"
   ]
  },
  {
   "cell_type": "code",
   "execution_count": 101,
   "metadata": {
    "colab": {
     "base_uri": "https://localhost:8080/"
    },
    "executionInfo": {
     "elapsed": 33,
     "status": "ok",
     "timestamp": 1667993569091,
     "user": {
      "displayName": "Gatis Mikelsons",
      "userId": "14730005653465610901"
     },
     "user_tz": 0
    },
    "id": "3tBJLv7jR0qE",
    "outputId": "043589f1-a9cd-4c1f-a560-015f1814946a"
   },
   "outputs": [
    {
     "data": {
      "text/plain": [
       "['lachez moi !', 'let me go !']"
      ]
     },
     "execution_count": 101,
     "metadata": {},
     "output_type": "execute_result"
    }
   ],
   "source": [
    "pairs[1230]"
   ]
  },
  {
   "cell_type": "code",
   "execution_count": 102,
   "metadata": {
    "colab": {
     "base_uri": "https://localhost:8080/"
    },
    "executionInfo": {
     "elapsed": 334,
     "status": "ok",
     "timestamp": 1667993569408,
     "user": {
      "displayName": "Gatis Mikelsons",
      "userId": "14730005653465610901"
     },
     "user_tz": 0
    },
    "id": "zGwX35wYR0qF",
    "outputId": "8ba566c3-abe2-4d74-a177-20e7c838dedd"
   },
   "outputs": [
    {
     "name": "stdout",
     "output_type": "stream",
     "text": [
      "Words kept: 652 out of 8360, a fraction of 0.08\n",
      "Words kept: 702 out of 5112, a fraction of 0.14\n"
     ]
    }
   ],
   "source": [
    "input_lang.trim(MIN_COUNT)\n",
    "output_lang.trim(MIN_COUNT)"
   ]
  },
  {
   "cell_type": "code",
   "execution_count": 103,
   "metadata": {
    "colab": {
     "base_uri": "https://localhost:8080/"
    },
    "executionInfo": {
     "elapsed": 33,
     "status": "ok",
     "timestamp": 1667993569408,
     "user": {
      "displayName": "Gatis Mikelsons",
      "userId": "14730005653465610901"
     },
     "user_tz": 0
    },
    "id": "J6WPc1aTR0qF",
    "outputId": "4999c313-85ba-47c3-d131-a31146e69391"
   },
   "outputs": [
    {
     "name": "stdout",
     "output_type": "stream",
     "text": [
      "Trimmed from 27282 pairs to 7370, 0.27 of total\n"
     ]
    }
   ],
   "source": [
    "# this throws out data, based on too rare words\n",
    "keep_pairs = []\n",
    "\n",
    "for pair in pairs:\n",
    "    input_sentence = pair[0]\n",
    "    output_sentence = pair[1]\n",
    "    keep_input = True\n",
    "    keep_output = True\n",
    "    \n",
    "    for word in input_sentence.split(' '):\n",
    "        if word not in input_lang.word2index:\n",
    "            keep_input = False\n",
    "            # break inner for-loop\n",
    "            break\n",
    "\n",
    "    for word in output_sentence.split(' '):\n",
    "        if word not in output_lang.word2index:\n",
    "            keep_output = False\n",
    "            break\n",
    "\n",
    "    # Keep the pair in the dataset only if neither sentence in the pair contains \"rare\" words.\n",
    "    if keep_input and keep_output:\n",
    "        keep_pairs.append(pair)\n",
    "\n",
    "print(\"Trimmed from %d pairs to %d, %.2f of total\" % (len(pairs), len(keep_pairs), len(keep_pairs) / len(pairs)))\n",
    "pairs = keep_pairs"
   ]
  },
  {
   "cell_type": "code",
   "execution_count": 104,
   "metadata": {
    "colab": {
     "base_uri": "https://localhost:8080/"
    },
    "executionInfo": {
     "elapsed": 32,
     "status": "ok",
     "timestamp": 1667993569409,
     "user": {
      "displayName": "Gatis Mikelsons",
      "userId": "14730005653465610901"
     },
     "user_tz": 0
    },
    "id": "d7rZv27KR0qF",
    "outputId": "ac8244bf-bdcd-4959-e08c-9632cae8534b"
   },
   "outputs": [
    {
     "data": {
      "text/plain": [
       "[['j ai echoue .', 'i failed .'],\n",
       " ['j ai compris .', 'i get it .'],\n",
       " ['j ai compris .', 'i got it .'],\n",
       " ['j ai aide .', 'i helped .']]"
      ]
     },
     "execution_count": 104,
     "metadata": {},
     "output_type": "execute_result"
    }
   ],
   "source": [
    "pairs[225:229]"
   ]
  },
  {
   "cell_type": "code",
   "execution_count": 105,
   "metadata": {
    "executionInfo": {
     "elapsed": 21,
     "status": "ok",
     "timestamp": 1667993569410,
     "user": {
      "displayName": "Gatis Mikelsons",
      "userId": "14730005653465610901"
     },
     "user_tz": 0
    },
    "id": "Jx4h0-cLR0qG"
   },
   "outputs": [],
   "source": [
    "# Dataprep steps in summary:\n",
    "#  Read the original text file and split into lines\n",
    "#  Split lines into pairs and do RegEx cleaning\n",
    "#  Filter to pairs of a certain length only\n",
    "#  Throw out pairs with rare words"
   ]
  },
  {
   "cell_type": "code",
   "execution_count": 106,
   "metadata": {
    "colab": {
     "base_uri": "https://localhost:8080/"
    },
    "executionInfo": {
     "elapsed": 20,
     "status": "ok",
     "timestamp": 1667993569410,
     "user": {
      "displayName": "Gatis Mikelsons",
      "userId": "14730005653465610901"
     },
     "user_tz": 0
    },
    "id": "gbMhMLyXR0qG",
    "outputId": "0437b73f-86d7-4e87-a69f-b6f31323736b"
   },
   "outputs": [
    {
     "data": {
      "text/plain": [
       "7370"
      ]
     },
     "execution_count": 106,
     "metadata": {},
     "output_type": "execute_result"
    }
   ],
   "source": [
    "len(pairs)"
   ]
  },
  {
   "cell_type": "code",
   "execution_count": null,
   "metadata": {},
   "outputs": [],
   "source": []
  },
  {
   "cell_type": "markdown",
   "metadata": {
    "id": "IMJsmvq6R0qG"
   },
   "source": [
    "## 2. Now turning data into PyTorch tensors"
   ]
  },
  {
   "cell_type": "code",
   "execution_count": null,
   "metadata": {
    "executionInfo": {
     "elapsed": 10,
     "status": "ok",
     "timestamp": 1667993569843,
     "user": {
      "displayName": "Gatis Mikelsons",
      "userId": "14730005653465610901"
     },
     "user_tz": 0
    },
    "id": "Ny7Zt_j7R0qL"
   },
   "outputs": [],
   "source": []
  },
  {
   "cell_type": "code",
   "execution_count": 107,
   "metadata": {
    "executionInfo": {
     "elapsed": 9,
     "status": "ok",
     "timestamp": 1667993569843,
     "user": {
      "displayName": "Gatis Mikelsons",
      "userId": "14730005653465610901"
     },
     "user_tz": 0
    },
    "id": "kJow24wJR0qZ"
   },
   "outputs": [],
   "source": [
    "frac = 0.7\n",
    "train_size = int(frac * len(pairs))"
   ]
  },
  {
   "cell_type": "code",
   "execution_count": 108,
   "metadata": {
    "executionInfo": {
     "elapsed": 9,
     "status": "ok",
     "timestamp": 1667993569844,
     "user": {
      "displayName": "Gatis Mikelsons",
      "userId": "14730005653465610901"
     },
     "user_tz": 0
    },
    "id": "AToXg0s7R0qZ"
   },
   "outputs": [],
   "source": [
    "random.Random(seed).shuffle(pairs)"
   ]
  },
  {
   "cell_type": "code",
   "execution_count": 109,
   "metadata": {
    "executionInfo": {
     "elapsed": 9,
     "status": "ok",
     "timestamp": 1667993569845,
     "user": {
      "displayName": "Gatis Mikelsons",
      "userId": "14730005653465610901"
     },
     "user_tz": 0
    },
    "id": "5d4JMUkbR0qZ"
   },
   "outputs": [],
   "source": [
    "train_dataset = LanguageDataset(pairs[:train_size], input_lang, output_lang, seed)\n",
    "val_dataset = LanguageDataset(pairs[train_size:], input_lang, output_lang, seed)"
   ]
  },
  {
   "cell_type": "code",
   "execution_count": 110,
   "metadata": {
    "executionInfo": {
     "elapsed": 9,
     "status": "ok",
     "timestamp": 1667993569845,
     "user": {
      "displayName": "Gatis Mikelsons",
      "userId": "14730005653465610901"
     },
     "user_tz": 0
    },
    "id": "DarY42vHR0qa"
   },
   "outputs": [],
   "source": [
    "trial_dataset1 = LanguageDataset(pairs[:100], input_lang, output_lang, seed)\n",
    "trial_dataset2 = LanguageDataset(pairs[100:200], input_lang, output_lang, seed)"
   ]
  },
  {
   "cell_type": "code",
   "execution_count": null,
   "metadata": {
    "executionInfo": {
     "elapsed": 8,
     "status": "ok",
     "timestamp": 1667993569845,
     "user": {
      "displayName": "Gatis Mikelsons",
      "userId": "14730005653465610901"
     },
     "user_tz": 0
    },
    "id": "71fMrGwWJNvR"
   },
   "outputs": [],
   "source": []
  },
  {
   "cell_type": "code",
   "execution_count": 111,
   "metadata": {
    "executionInfo": {
     "elapsed": 221,
     "status": "ok",
     "timestamp": 1667993570059,
     "user": {
      "displayName": "Gatis Mikelsons",
      "userId": "14730005653465610901"
     },
     "user_tz": 0
    },
    "id": "Mf2LdTLsJNkv"
   },
   "outputs": [],
   "source": [
    "torch.save(train_dataset, path + '/train.pt')\n",
    "torch.save(val_dataset, path + '/val.pt')"
   ]
  },
  {
   "cell_type": "code",
   "execution_count": 112,
   "metadata": {
    "executionInfo": {
     "elapsed": 11,
     "status": "ok",
     "timestamp": 1667993570059,
     "user": {
      "displayName": "Gatis Mikelsons",
      "userId": "14730005653465610901"
     },
     "user_tz": 0
    },
    "id": "2BMsUIwKR0qO"
   },
   "outputs": [],
   "source": [
    "torch.save(trial_dataset1, path + '/trial1.pt')\n",
    "torch.save(trial_dataset2, path + '/trial2.pt')"
   ]
  },
  {
   "cell_type": "code",
   "execution_count": null,
   "metadata": {},
   "outputs": [],
   "source": []
  },
  {
   "cell_type": "code",
   "execution_count": 113,
   "metadata": {},
   "outputs": [],
   "source": [
    "# Pickling\n",
    "with open(path + \"/input_lang.txt\", \"wb\") as x:\n",
    "    pickle.dump(input_lang, x)\n",
    "with open(path + \"/output_lang.txt\", \"wb\") as x:\n",
    "    pickle.dump(output_lang, x)"
   ]
  },
  {
   "cell_type": "code",
   "execution_count": 114,
   "metadata": {},
   "outputs": [],
   "source": [
    "# Here the dimensionality is length x batch for the input tokens"
   ]
  },
  {
   "cell_type": "code",
   "execution_count": 115,
   "metadata": {},
   "outputs": [
    {
     "data": {
      "text/plain": [
       "((tensor([[ 10,   7, 154, 357],\n",
       "          [117,   4,  50,  88],\n",
       "          [  3,   2, 646,   9],\n",
       "          [ 62,   0, 450,   2],\n",
       "          [  6,   0,   6,   0],\n",
       "          [  2,   0,   2,   0]]),\n",
       "  [6, 3, 6, 4]),\n",
       " (tensor([[113,  24,  92, 162],\n",
       "          [611,  60, 178, 430],\n",
       "          [194,   6, 701,  42],\n",
       "          [ 76,   2, 410, 191],\n",
       "          [  4,   0,   4,   8],\n",
       "          [  2,   0,   2,   2]]),\n",
       "  [6, 4, 6, 6]))"
      ]
     },
     "execution_count": 115,
     "metadata": {},
     "output_type": "execute_result"
    }
   ],
   "source": [
    "trial_dataset1[1:5]"
   ]
  },
  {
   "cell_type": "code",
   "execution_count": null,
   "metadata": {},
   "outputs": [],
   "source": []
  },
  {
   "cell_type": "code",
   "execution_count": 116,
   "metadata": {},
   "outputs": [],
   "source": [
    "vars(input_lang);"
   ]
  },
  {
   "cell_type": "code",
   "execution_count": 117,
   "metadata": {},
   "outputs": [
    {
     "data": {
      "text/plain": [
       "('fra', 655)"
      ]
     },
     "execution_count": 117,
     "metadata": {},
     "output_type": "execute_result"
    }
   ],
   "source": [
    "input_lang.name, input_lang.n_words"
   ]
  },
  {
   "cell_type": "code",
   "execution_count": 118,
   "metadata": {},
   "outputs": [
    {
     "data": {
      "text/plain": [
       "('eng', 705)"
      ]
     },
     "execution_count": 118,
     "metadata": {},
     "output_type": "execute_result"
    }
   ],
   "source": [
    "output_lang.name, output_lang.n_words"
   ]
  },
  {
   "cell_type": "code",
   "execution_count": 119,
   "metadata": {},
   "outputs": [],
   "source": [
    "# We have included EOS_tokens at the end of each sequence, and our bespoke PyTorch class LanguageDataset(Dataset) pads to the longest sequence \n",
    "#    in the batch."
   ]
  },
  {
   "cell_type": "code",
   "execution_count": null,
   "metadata": {},
   "outputs": [],
   "source": []
  },
  {
   "cell_type": "code",
   "execution_count": null,
   "metadata": {},
   "outputs": [],
   "source": []
  },
  {
   "cell_type": "code",
   "execution_count": null,
   "metadata": {
    "id": "_szg3yF3vWn_"
   },
   "outputs": [],
   "source": []
  },
  {
   "cell_type": "code",
   "execution_count": null,
   "metadata": {
    "id": "ydAkemdIR0qd"
   },
   "outputs": [],
   "source": []
  },
  {
   "cell_type": "code",
   "execution_count": null,
   "metadata": {
    "id": "S8JmKUWfR0qd"
   },
   "outputs": [],
   "source": []
  },
  {
   "cell_type": "code",
   "execution_count": null,
   "metadata": {
    "id": "rUyMPRzZR0qe"
   },
   "outputs": [],
   "source": []
  }
 ],
 "metadata": {
  "accelerator": "GPU",
  "anaconda-cloud": {},
  "colab": {
   "collapsed_sections": [
    "vdbLKfzPR0qB",
    "Xzu9e8QJR0qZ"
   ],
   "provenance": []
  },
  "gpuClass": "standard",
  "kernelspec": {
   "display_name": "Python 3 (ipykernel)",
   "language": "python",
   "name": "python3"
  },
  "language_info": {
   "codemirror_mode": {
    "name": "ipython",
    "version": 3
   },
   "file_extension": ".py",
   "mimetype": "text/x-python",
   "name": "python",
   "nbconvert_exporter": "python",
   "pygments_lexer": "ipython3",
   "version": "3.10.13"
  }
 },
 "nbformat": 4,
 "nbformat_minor": 4
}
